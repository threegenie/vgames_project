{
  "nbformat": 4,
  "nbformat_minor": 0,
  "metadata": {
    "colab": {
      "name": "game_data.ipynb",
      "provenance": [],
      "collapsed_sections": [],
      "authorship_tag": "ABX9TyPVqVW4oxMOa7Fo+CkCodxP",
      "include_colab_link": true
    },
    "kernelspec": {
      "name": "python3",
      "display_name": "Python 3"
    }
  },
  "cells": [
    {
      "cell_type": "markdown",
      "metadata": {
        "id": "view-in-github",
        "colab_type": "text"
      },
      "source": [
        "<a href=\"https://colab.research.google.com/github/threegenie/vgames_project/blob/main/game_data.ipynb\" target=\"_parent\"><img src=\"https://colab.research.google.com/assets/colab-badge.svg\" alt=\"Open In Colab\"/></a>"
      ]
    },
    {
      "cell_type": "code",
      "metadata": {
        "colab": {
          "base_uri": "https://localhost:8080/",
          "height": 648
        },
        "id": "1kHkoSrmCuVq",
        "outputId": "cbd91e3f-af58-4249-92e0-7ee08b66e531"
      },
      "source": [
        "import pandas as pd\r\n",
        "import numpy as np\r\n",
        "import matplotlib.pyplot as plt\r\n",
        "import seaborn as sns\r\n",
        "\r\n",
        "# read data as df\r\n",
        "from google.colab import drive\r\n",
        "drive.mount('/content/drive')\r\n",
        "df = pd.read_csv('/content/drive/My Drive/vgames2.csv')\r\n",
        "df = df.drop('Unnamed: 0',axis=1)\r\n",
        "df"
      ],
      "execution_count": 1,
      "outputs": [
        {
          "output_type": "stream",
          "text": [
            "Drive already mounted at /content/drive; to attempt to forcibly remount, call drive.mount(\"/content/drive\", force_remount=True).\n"
          ],
          "name": "stdout"
        },
        {
          "output_type": "execute_result",
          "data": {
            "text/html": [
              "<div>\n",
              "<style scoped>\n",
              "    .dataframe tbody tr th:only-of-type {\n",
              "        vertical-align: middle;\n",
              "    }\n",
              "\n",
              "    .dataframe tbody tr th {\n",
              "        vertical-align: top;\n",
              "    }\n",
              "\n",
              "    .dataframe thead th {\n",
              "        text-align: right;\n",
              "    }\n",
              "</style>\n",
              "<table border=\"1\" class=\"dataframe\">\n",
              "  <thead>\n",
              "    <tr style=\"text-align: right;\">\n",
              "      <th></th>\n",
              "      <th>Name</th>\n",
              "      <th>Platform</th>\n",
              "      <th>Year</th>\n",
              "      <th>Genre</th>\n",
              "      <th>Publisher</th>\n",
              "      <th>NA_Sales</th>\n",
              "      <th>EU_Sales</th>\n",
              "      <th>JP_Sales</th>\n",
              "      <th>Other_Sales</th>\n",
              "    </tr>\n",
              "  </thead>\n",
              "  <tbody>\n",
              "    <tr>\n",
              "      <th>0</th>\n",
              "      <td>Candace Kane's Candy Factory</td>\n",
              "      <td>DS</td>\n",
              "      <td>2008.0</td>\n",
              "      <td>Action</td>\n",
              "      <td>Destineer</td>\n",
              "      <td>0.04</td>\n",
              "      <td>0</td>\n",
              "      <td>0</td>\n",
              "      <td>0</td>\n",
              "    </tr>\n",
              "    <tr>\n",
              "      <th>1</th>\n",
              "      <td>The Munchables</td>\n",
              "      <td>Wii</td>\n",
              "      <td>2009.0</td>\n",
              "      <td>Action</td>\n",
              "      <td>Namco Bandai Games</td>\n",
              "      <td>0.17</td>\n",
              "      <td>0</td>\n",
              "      <td>0</td>\n",
              "      <td>0.01</td>\n",
              "    </tr>\n",
              "    <tr>\n",
              "      <th>2</th>\n",
              "      <td>Otome wa Oanesama Boku ni Koi Shiteru Portable</td>\n",
              "      <td>PSP</td>\n",
              "      <td>2010.0</td>\n",
              "      <td>Adventure</td>\n",
              "      <td>Alchemist</td>\n",
              "      <td>0</td>\n",
              "      <td>0</td>\n",
              "      <td>0.02</td>\n",
              "      <td>0</td>\n",
              "    </tr>\n",
              "    <tr>\n",
              "      <th>3</th>\n",
              "      <td>Deal or No Deal: Special Edition</td>\n",
              "      <td>DS</td>\n",
              "      <td>2010.0</td>\n",
              "      <td>Misc</td>\n",
              "      <td>Zoo Games</td>\n",
              "      <td>0.04</td>\n",
              "      <td>0</td>\n",
              "      <td>0</td>\n",
              "      <td>0</td>\n",
              "    </tr>\n",
              "    <tr>\n",
              "      <th>4</th>\n",
              "      <td>Ben 10 Ultimate Alien: Cosmic Destruction</td>\n",
              "      <td>PS3</td>\n",
              "      <td>2010.0</td>\n",
              "      <td>Platform</td>\n",
              "      <td>D3Publisher</td>\n",
              "      <td>0.12</td>\n",
              "      <td>0.09</td>\n",
              "      <td>0</td>\n",
              "      <td>0.04</td>\n",
              "    </tr>\n",
              "    <tr>\n",
              "      <th>...</th>\n",
              "      <td>...</td>\n",
              "      <td>...</td>\n",
              "      <td>...</td>\n",
              "      <td>...</td>\n",
              "      <td>...</td>\n",
              "      <td>...</td>\n",
              "      <td>...</td>\n",
              "      <td>...</td>\n",
              "      <td>...</td>\n",
              "    </tr>\n",
              "    <tr>\n",
              "      <th>16593</th>\n",
              "      <td>Ice Age 2: The Meltdown</td>\n",
              "      <td>GC</td>\n",
              "      <td>2006.0</td>\n",
              "      <td>Platform</td>\n",
              "      <td>Vivendi Games</td>\n",
              "      <td>0.15</td>\n",
              "      <td>0.04</td>\n",
              "      <td>0</td>\n",
              "      <td>0.01</td>\n",
              "    </tr>\n",
              "    <tr>\n",
              "      <th>16594</th>\n",
              "      <td>Rainbow Islands: Revolution</td>\n",
              "      <td>PSP</td>\n",
              "      <td>2005.0</td>\n",
              "      <td>Action</td>\n",
              "      <td>Rising Star Games</td>\n",
              "      <td>0.01</td>\n",
              "      <td>0</td>\n",
              "      <td>0</td>\n",
              "      <td>0</td>\n",
              "    </tr>\n",
              "    <tr>\n",
              "      <th>16595</th>\n",
              "      <td>NBA 2K16</td>\n",
              "      <td>PS3</td>\n",
              "      <td>2015.0</td>\n",
              "      <td>Sports</td>\n",
              "      <td>Take-Two Interactive</td>\n",
              "      <td>0.44</td>\n",
              "      <td>0.19</td>\n",
              "      <td>0.03</td>\n",
              "      <td>0.13</td>\n",
              "    </tr>\n",
              "    <tr>\n",
              "      <th>16596</th>\n",
              "      <td>Toukiden: The Age of Demons</td>\n",
              "      <td>PSV</td>\n",
              "      <td>2013.0</td>\n",
              "      <td>Action</td>\n",
              "      <td>Tecmo Koei</td>\n",
              "      <td>0.05</td>\n",
              "      <td>0.05</td>\n",
              "      <td>0.25</td>\n",
              "      <td>0.03</td>\n",
              "    </tr>\n",
              "    <tr>\n",
              "      <th>16597</th>\n",
              "      <td>The King of Fighters '95</td>\n",
              "      <td>PS</td>\n",
              "      <td>1996.0</td>\n",
              "      <td>Fighting</td>\n",
              "      <td>Sony Computer Entertainment</td>\n",
              "      <td>0</td>\n",
              "      <td>0</td>\n",
              "      <td>0.16</td>\n",
              "      <td>0.01</td>\n",
              "    </tr>\n",
              "  </tbody>\n",
              "</table>\n",
              "<p>16598 rows × 9 columns</p>\n",
              "</div>"
            ],
            "text/plain": [
              "                                                 Name  ... Other_Sales\n",
              "0                        Candace Kane's Candy Factory  ...           0\n",
              "1                                      The Munchables  ...        0.01\n",
              "2      Otome wa Oanesama Boku ni Koi Shiteru Portable  ...           0\n",
              "3                    Deal or No Deal: Special Edition  ...           0\n",
              "4           Ben 10 Ultimate Alien: Cosmic Destruction  ...        0.04\n",
              "...                                               ...  ...         ...\n",
              "16593                         Ice Age 2: The Meltdown  ...        0.01\n",
              "16594                     Rainbow Islands: Revolution  ...           0\n",
              "16595                                        NBA 2K16  ...        0.13\n",
              "16596                     Toukiden: The Age of Demons  ...        0.03\n",
              "16597                        The King of Fighters '95  ...        0.01\n",
              "\n",
              "[16598 rows x 9 columns]"
            ]
          },
          "metadata": {
            "tags": []
          },
          "execution_count": 1
        }
      ]
    },
    {
      "cell_type": "code",
      "metadata": {
        "id": "YYtVauXRAiq2"
      },
      "source": [
        "# 오류(SettingWithCopyError 발생)\r\n",
        "pd.set_option('mode.chained_assignment', 'raise') # SettingWithCopyError\r\n",
        "\r\n",
        "# 경고(SettingWithCopyWarning 발생, 기본 값입니다)\r\n",
        "pd.set_option('mode.chained_assignment', 'warn') # SettingWithCopyWarning\r\n",
        "\r\n",
        "# 무시\r\n",
        "pd.set_option('mode.chained_assignment',  None) # <==== 경고를 끈다"
      ],
      "execution_count": 2,
      "outputs": []
    },
    {
      "cell_type": "code",
      "metadata": {
        "colab": {
          "base_uri": "https://localhost:8080/"
        },
        "id": "9iEb6oGtN13p",
        "outputId": "b9fd1980-d8ba-4bd3-c512-03ecae1e6d99"
      },
      "source": [
        "#데이터 타입 확인\r\n",
        "df.dtypes"
      ],
      "execution_count": 3,
      "outputs": [
        {
          "output_type": "execute_result",
          "data": {
            "text/plain": [
              "Name            object\n",
              "Platform        object\n",
              "Year           float64\n",
              "Genre           object\n",
              "Publisher       object\n",
              "NA_Sales        object\n",
              "EU_Sales        object\n",
              "JP_Sales        object\n",
              "Other_Sales     object\n",
              "dtype: object"
            ]
          },
          "metadata": {
            "tags": []
          },
          "execution_count": 3
        }
      ]
    },
    {
      "cell_type": "code",
      "metadata": {
        "colab": {
          "base_uri": "https://localhost:8080/",
          "height": 282
        },
        "id": "_ZtSRld7jnJl",
        "outputId": "e4bb824d-5e4f-482b-a72d-f0e0ad7f04b7"
      },
      "source": [
        "#결측값 제거\r\n",
        "df = df.dropna(axis=0)\r\n",
        "df.head(5)"
      ],
      "execution_count": 4,
      "outputs": [
        {
          "output_type": "execute_result",
          "data": {
            "text/html": [
              "<div>\n",
              "<style scoped>\n",
              "    .dataframe tbody tr th:only-of-type {\n",
              "        vertical-align: middle;\n",
              "    }\n",
              "\n",
              "    .dataframe tbody tr th {\n",
              "        vertical-align: top;\n",
              "    }\n",
              "\n",
              "    .dataframe thead th {\n",
              "        text-align: right;\n",
              "    }\n",
              "</style>\n",
              "<table border=\"1\" class=\"dataframe\">\n",
              "  <thead>\n",
              "    <tr style=\"text-align: right;\">\n",
              "      <th></th>\n",
              "      <th>Name</th>\n",
              "      <th>Platform</th>\n",
              "      <th>Year</th>\n",
              "      <th>Genre</th>\n",
              "      <th>Publisher</th>\n",
              "      <th>NA_Sales</th>\n",
              "      <th>EU_Sales</th>\n",
              "      <th>JP_Sales</th>\n",
              "      <th>Other_Sales</th>\n",
              "    </tr>\n",
              "  </thead>\n",
              "  <tbody>\n",
              "    <tr>\n",
              "      <th>0</th>\n",
              "      <td>Candace Kane's Candy Factory</td>\n",
              "      <td>DS</td>\n",
              "      <td>2008.0</td>\n",
              "      <td>Action</td>\n",
              "      <td>Destineer</td>\n",
              "      <td>0.04</td>\n",
              "      <td>0</td>\n",
              "      <td>0</td>\n",
              "      <td>0</td>\n",
              "    </tr>\n",
              "    <tr>\n",
              "      <th>1</th>\n",
              "      <td>The Munchables</td>\n",
              "      <td>Wii</td>\n",
              "      <td>2009.0</td>\n",
              "      <td>Action</td>\n",
              "      <td>Namco Bandai Games</td>\n",
              "      <td>0.17</td>\n",
              "      <td>0</td>\n",
              "      <td>0</td>\n",
              "      <td>0.01</td>\n",
              "    </tr>\n",
              "    <tr>\n",
              "      <th>2</th>\n",
              "      <td>Otome wa Oanesama Boku ni Koi Shiteru Portable</td>\n",
              "      <td>PSP</td>\n",
              "      <td>2010.0</td>\n",
              "      <td>Adventure</td>\n",
              "      <td>Alchemist</td>\n",
              "      <td>0</td>\n",
              "      <td>0</td>\n",
              "      <td>0.02</td>\n",
              "      <td>0</td>\n",
              "    </tr>\n",
              "    <tr>\n",
              "      <th>3</th>\n",
              "      <td>Deal or No Deal: Special Edition</td>\n",
              "      <td>DS</td>\n",
              "      <td>2010.0</td>\n",
              "      <td>Misc</td>\n",
              "      <td>Zoo Games</td>\n",
              "      <td>0.04</td>\n",
              "      <td>0</td>\n",
              "      <td>0</td>\n",
              "      <td>0</td>\n",
              "    </tr>\n",
              "    <tr>\n",
              "      <th>4</th>\n",
              "      <td>Ben 10 Ultimate Alien: Cosmic Destruction</td>\n",
              "      <td>PS3</td>\n",
              "      <td>2010.0</td>\n",
              "      <td>Platform</td>\n",
              "      <td>D3Publisher</td>\n",
              "      <td>0.12</td>\n",
              "      <td>0.09</td>\n",
              "      <td>0</td>\n",
              "      <td>0.04</td>\n",
              "    </tr>\n",
              "  </tbody>\n",
              "</table>\n",
              "</div>"
            ],
            "text/plain": [
              "                                             Name Platform  ...  JP_Sales Other_Sales\n",
              "0                    Candace Kane's Candy Factory       DS  ...         0           0\n",
              "1                                  The Munchables      Wii  ...         0        0.01\n",
              "2  Otome wa Oanesama Boku ni Koi Shiteru Portable      PSP  ...      0.02           0\n",
              "3                Deal or No Deal: Special Edition       DS  ...         0           0\n",
              "4       Ben 10 Ultimate Alien: Cosmic Destruction      PS3  ...         0        0.04\n",
              "\n",
              "[5 rows x 9 columns]"
            ]
          },
          "metadata": {
            "tags": []
          },
          "execution_count": 4
        }
      ]
    },
    {
      "cell_type": "code",
      "metadata": {
        "colab": {
          "base_uri": "https://localhost:8080/",
          "height": 282
        },
        "id": "SLr2M9OJmKKL",
        "outputId": "514465b0-7284-41ee-b618-e81d4180bc68"
      },
      "source": [
        "#년도 오류 값 결측치 처리 후 정수로 변환\r\n",
        "df['Year'] = np.where( df['Year'] <=100,0,df['Year'] )\r\n",
        "df['Year'] = df['Year'].replace(0,np.nan)\r\n",
        "df.dropna(axis=0,inplace=True)\r\n",
        "df['Year'] = df['Year'].astype(int)\r\n",
        "df.head(5)"
      ],
      "execution_count": 5,
      "outputs": [
        {
          "output_type": "execute_result",
          "data": {
            "text/html": [
              "<div>\n",
              "<style scoped>\n",
              "    .dataframe tbody tr th:only-of-type {\n",
              "        vertical-align: middle;\n",
              "    }\n",
              "\n",
              "    .dataframe tbody tr th {\n",
              "        vertical-align: top;\n",
              "    }\n",
              "\n",
              "    .dataframe thead th {\n",
              "        text-align: right;\n",
              "    }\n",
              "</style>\n",
              "<table border=\"1\" class=\"dataframe\">\n",
              "  <thead>\n",
              "    <tr style=\"text-align: right;\">\n",
              "      <th></th>\n",
              "      <th>Name</th>\n",
              "      <th>Platform</th>\n",
              "      <th>Year</th>\n",
              "      <th>Genre</th>\n",
              "      <th>Publisher</th>\n",
              "      <th>NA_Sales</th>\n",
              "      <th>EU_Sales</th>\n",
              "      <th>JP_Sales</th>\n",
              "      <th>Other_Sales</th>\n",
              "    </tr>\n",
              "  </thead>\n",
              "  <tbody>\n",
              "    <tr>\n",
              "      <th>0</th>\n",
              "      <td>Candace Kane's Candy Factory</td>\n",
              "      <td>DS</td>\n",
              "      <td>2008</td>\n",
              "      <td>Action</td>\n",
              "      <td>Destineer</td>\n",
              "      <td>0.04</td>\n",
              "      <td>0</td>\n",
              "      <td>0</td>\n",
              "      <td>0</td>\n",
              "    </tr>\n",
              "    <tr>\n",
              "      <th>1</th>\n",
              "      <td>The Munchables</td>\n",
              "      <td>Wii</td>\n",
              "      <td>2009</td>\n",
              "      <td>Action</td>\n",
              "      <td>Namco Bandai Games</td>\n",
              "      <td>0.17</td>\n",
              "      <td>0</td>\n",
              "      <td>0</td>\n",
              "      <td>0.01</td>\n",
              "    </tr>\n",
              "    <tr>\n",
              "      <th>2</th>\n",
              "      <td>Otome wa Oanesama Boku ni Koi Shiteru Portable</td>\n",
              "      <td>PSP</td>\n",
              "      <td>2010</td>\n",
              "      <td>Adventure</td>\n",
              "      <td>Alchemist</td>\n",
              "      <td>0</td>\n",
              "      <td>0</td>\n",
              "      <td>0.02</td>\n",
              "      <td>0</td>\n",
              "    </tr>\n",
              "    <tr>\n",
              "      <th>3</th>\n",
              "      <td>Deal or No Deal: Special Edition</td>\n",
              "      <td>DS</td>\n",
              "      <td>2010</td>\n",
              "      <td>Misc</td>\n",
              "      <td>Zoo Games</td>\n",
              "      <td>0.04</td>\n",
              "      <td>0</td>\n",
              "      <td>0</td>\n",
              "      <td>0</td>\n",
              "    </tr>\n",
              "    <tr>\n",
              "      <th>4</th>\n",
              "      <td>Ben 10 Ultimate Alien: Cosmic Destruction</td>\n",
              "      <td>PS3</td>\n",
              "      <td>2010</td>\n",
              "      <td>Platform</td>\n",
              "      <td>D3Publisher</td>\n",
              "      <td>0.12</td>\n",
              "      <td>0.09</td>\n",
              "      <td>0</td>\n",
              "      <td>0.04</td>\n",
              "    </tr>\n",
              "  </tbody>\n",
              "</table>\n",
              "</div>"
            ],
            "text/plain": [
              "                                             Name Platform  ...  JP_Sales Other_Sales\n",
              "0                    Candace Kane's Candy Factory       DS  ...         0           0\n",
              "1                                  The Munchables      Wii  ...         0        0.01\n",
              "2  Otome wa Oanesama Boku ni Koi Shiteru Portable      PSP  ...      0.02           0\n",
              "3                Deal or No Deal: Special Edition       DS  ...         0           0\n",
              "4       Ben 10 Ultimate Alien: Cosmic Destruction      PS3  ...         0        0.04\n",
              "\n",
              "[5 rows x 9 columns]"
            ]
          },
          "metadata": {
            "tags": []
          },
          "execution_count": 5
        }
      ]
    },
    {
      "cell_type": "code",
      "metadata": {
        "colab": {
          "base_uri": "https://localhost:8080/",
          "height": 282
        },
        "id": "KsUJlAIvotXj",
        "outputId": "0c76e203-d9f8-4468-8780-a99f15d89b6d"
      },
      "source": [
        "#M단위 제거\r\n",
        "def replace_M(x):\r\n",
        "  return x.str.replace('M','')\r\n",
        "\r\n",
        "df['NA_Sales'] = replace_M(df['NA_Sales'])\r\n",
        "df['EU_Sales'] = replace_M(df['EU_Sales'])\r\n",
        "df['JP_Sales'] = replace_M(df['JP_Sales'])\r\n",
        "df['Other_Sales'] = replace_M(df['Other_Sales'])\r\n",
        "\r\n",
        "df.head()"
      ],
      "execution_count": 6,
      "outputs": [
        {
          "output_type": "execute_result",
          "data": {
            "text/html": [
              "<div>\n",
              "<style scoped>\n",
              "    .dataframe tbody tr th:only-of-type {\n",
              "        vertical-align: middle;\n",
              "    }\n",
              "\n",
              "    .dataframe tbody tr th {\n",
              "        vertical-align: top;\n",
              "    }\n",
              "\n",
              "    .dataframe thead th {\n",
              "        text-align: right;\n",
              "    }\n",
              "</style>\n",
              "<table border=\"1\" class=\"dataframe\">\n",
              "  <thead>\n",
              "    <tr style=\"text-align: right;\">\n",
              "      <th></th>\n",
              "      <th>Name</th>\n",
              "      <th>Platform</th>\n",
              "      <th>Year</th>\n",
              "      <th>Genre</th>\n",
              "      <th>Publisher</th>\n",
              "      <th>NA_Sales</th>\n",
              "      <th>EU_Sales</th>\n",
              "      <th>JP_Sales</th>\n",
              "      <th>Other_Sales</th>\n",
              "    </tr>\n",
              "  </thead>\n",
              "  <tbody>\n",
              "    <tr>\n",
              "      <th>0</th>\n",
              "      <td>Candace Kane's Candy Factory</td>\n",
              "      <td>DS</td>\n",
              "      <td>2008</td>\n",
              "      <td>Action</td>\n",
              "      <td>Destineer</td>\n",
              "      <td>0.04</td>\n",
              "      <td>0</td>\n",
              "      <td>0</td>\n",
              "      <td>0</td>\n",
              "    </tr>\n",
              "    <tr>\n",
              "      <th>1</th>\n",
              "      <td>The Munchables</td>\n",
              "      <td>Wii</td>\n",
              "      <td>2009</td>\n",
              "      <td>Action</td>\n",
              "      <td>Namco Bandai Games</td>\n",
              "      <td>0.17</td>\n",
              "      <td>0</td>\n",
              "      <td>0</td>\n",
              "      <td>0.01</td>\n",
              "    </tr>\n",
              "    <tr>\n",
              "      <th>2</th>\n",
              "      <td>Otome wa Oanesama Boku ni Koi Shiteru Portable</td>\n",
              "      <td>PSP</td>\n",
              "      <td>2010</td>\n",
              "      <td>Adventure</td>\n",
              "      <td>Alchemist</td>\n",
              "      <td>0</td>\n",
              "      <td>0</td>\n",
              "      <td>0.02</td>\n",
              "      <td>0</td>\n",
              "    </tr>\n",
              "    <tr>\n",
              "      <th>3</th>\n",
              "      <td>Deal or No Deal: Special Edition</td>\n",
              "      <td>DS</td>\n",
              "      <td>2010</td>\n",
              "      <td>Misc</td>\n",
              "      <td>Zoo Games</td>\n",
              "      <td>0.04</td>\n",
              "      <td>0</td>\n",
              "      <td>0</td>\n",
              "      <td>0</td>\n",
              "    </tr>\n",
              "    <tr>\n",
              "      <th>4</th>\n",
              "      <td>Ben 10 Ultimate Alien: Cosmic Destruction</td>\n",
              "      <td>PS3</td>\n",
              "      <td>2010</td>\n",
              "      <td>Platform</td>\n",
              "      <td>D3Publisher</td>\n",
              "      <td>0.12</td>\n",
              "      <td>0.09</td>\n",
              "      <td>0</td>\n",
              "      <td>0.04</td>\n",
              "    </tr>\n",
              "  </tbody>\n",
              "</table>\n",
              "</div>"
            ],
            "text/plain": [
              "                                             Name Platform  ...  JP_Sales Other_Sales\n",
              "0                    Candace Kane's Candy Factory       DS  ...         0           0\n",
              "1                                  The Munchables      Wii  ...         0        0.01\n",
              "2  Otome wa Oanesama Boku ni Koi Shiteru Portable      PSP  ...      0.02           0\n",
              "3                Deal or No Deal: Special Edition       DS  ...         0           0\n",
              "4       Ben 10 Ultimate Alien: Cosmic Destruction      PS3  ...         0        0.04\n",
              "\n",
              "[5 rows x 9 columns]"
            ]
          },
          "metadata": {
            "tags": []
          },
          "execution_count": 6
        }
      ]
    },
    {
      "cell_type": "code",
      "metadata": {
        "colab": {
          "base_uri": "https://localhost:8080/",
          "height": 282
        },
        "id": "tC2yuX6g7fjt",
        "outputId": "ee603e1c-7adf-4ed9-b48d-f2f2d10a34d0"
      },
      "source": [
        "#K단위 제거\r\n",
        "def replace_K(x):\r\n",
        "  return x.str.replace('K','')\r\n",
        "\r\n",
        "df['NA_Sales'] = replace_K(df['NA_Sales'])\r\n",
        "df['EU_Sales'] = replace_K(df['EU_Sales'])\r\n",
        "df['JP_Sales'] = replace_K(df['JP_Sales'])\r\n",
        "df['Other_Sales'] = replace_K(df['Other_Sales'])\r\n",
        "\r\n",
        "df.head()"
      ],
      "execution_count": 7,
      "outputs": [
        {
          "output_type": "execute_result",
          "data": {
            "text/html": [
              "<div>\n",
              "<style scoped>\n",
              "    .dataframe tbody tr th:only-of-type {\n",
              "        vertical-align: middle;\n",
              "    }\n",
              "\n",
              "    .dataframe tbody tr th {\n",
              "        vertical-align: top;\n",
              "    }\n",
              "\n",
              "    .dataframe thead th {\n",
              "        text-align: right;\n",
              "    }\n",
              "</style>\n",
              "<table border=\"1\" class=\"dataframe\">\n",
              "  <thead>\n",
              "    <tr style=\"text-align: right;\">\n",
              "      <th></th>\n",
              "      <th>Name</th>\n",
              "      <th>Platform</th>\n",
              "      <th>Year</th>\n",
              "      <th>Genre</th>\n",
              "      <th>Publisher</th>\n",
              "      <th>NA_Sales</th>\n",
              "      <th>EU_Sales</th>\n",
              "      <th>JP_Sales</th>\n",
              "      <th>Other_Sales</th>\n",
              "    </tr>\n",
              "  </thead>\n",
              "  <tbody>\n",
              "    <tr>\n",
              "      <th>0</th>\n",
              "      <td>Candace Kane's Candy Factory</td>\n",
              "      <td>DS</td>\n",
              "      <td>2008</td>\n",
              "      <td>Action</td>\n",
              "      <td>Destineer</td>\n",
              "      <td>0.04</td>\n",
              "      <td>0</td>\n",
              "      <td>0</td>\n",
              "      <td>0</td>\n",
              "    </tr>\n",
              "    <tr>\n",
              "      <th>1</th>\n",
              "      <td>The Munchables</td>\n",
              "      <td>Wii</td>\n",
              "      <td>2009</td>\n",
              "      <td>Action</td>\n",
              "      <td>Namco Bandai Games</td>\n",
              "      <td>0.17</td>\n",
              "      <td>0</td>\n",
              "      <td>0</td>\n",
              "      <td>0.01</td>\n",
              "    </tr>\n",
              "    <tr>\n",
              "      <th>2</th>\n",
              "      <td>Otome wa Oanesama Boku ni Koi Shiteru Portable</td>\n",
              "      <td>PSP</td>\n",
              "      <td>2010</td>\n",
              "      <td>Adventure</td>\n",
              "      <td>Alchemist</td>\n",
              "      <td>0</td>\n",
              "      <td>0</td>\n",
              "      <td>0.02</td>\n",
              "      <td>0</td>\n",
              "    </tr>\n",
              "    <tr>\n",
              "      <th>3</th>\n",
              "      <td>Deal or No Deal: Special Edition</td>\n",
              "      <td>DS</td>\n",
              "      <td>2010</td>\n",
              "      <td>Misc</td>\n",
              "      <td>Zoo Games</td>\n",
              "      <td>0.04</td>\n",
              "      <td>0</td>\n",
              "      <td>0</td>\n",
              "      <td>0</td>\n",
              "    </tr>\n",
              "    <tr>\n",
              "      <th>4</th>\n",
              "      <td>Ben 10 Ultimate Alien: Cosmic Destruction</td>\n",
              "      <td>PS3</td>\n",
              "      <td>2010</td>\n",
              "      <td>Platform</td>\n",
              "      <td>D3Publisher</td>\n",
              "      <td>0.12</td>\n",
              "      <td>0.09</td>\n",
              "      <td>0</td>\n",
              "      <td>0.04</td>\n",
              "    </tr>\n",
              "  </tbody>\n",
              "</table>\n",
              "</div>"
            ],
            "text/plain": [
              "                                             Name Platform  ...  JP_Sales Other_Sales\n",
              "0                    Candace Kane's Candy Factory       DS  ...         0           0\n",
              "1                                  The Munchables      Wii  ...         0        0.01\n",
              "2  Otome wa Oanesama Boku ni Koi Shiteru Portable      PSP  ...      0.02           0\n",
              "3                Deal or No Deal: Special Edition       DS  ...         0           0\n",
              "4       Ben 10 Ultimate Alien: Cosmic Destruction      PS3  ...         0        0.04\n",
              "\n",
              "[5 rows x 9 columns]"
            ]
          },
          "metadata": {
            "tags": []
          },
          "execution_count": 7
        }
      ]
    },
    {
      "cell_type": "code",
      "metadata": {
        "colab": {
          "base_uri": "https://localhost:8080/"
        },
        "id": "mWDHHtOEDs_9",
        "outputId": "56f4a431-0df6-42a2-bbf7-c19d3322b884"
      },
      "source": [
        "#Sales 칼럼들 전부 numeric으로 변경\r\n",
        "df['NA_Sales'] = pd.to_numeric(df['NA_Sales'])\r\n",
        "df['EU_Sales'] = pd.to_numeric(df['EU_Sales'])\r\n",
        "df['JP_Sales'] = pd.to_numeric(df['JP_Sales'])\r\n",
        "df['Other_Sales'] = pd.to_numeric(df['Other_Sales'])\r\n",
        "\r\n",
        "df.dtypes"
      ],
      "execution_count": 8,
      "outputs": [
        {
          "output_type": "execute_result",
          "data": {
            "text/plain": [
              "Name            object\n",
              "Platform        object\n",
              "Year             int64\n",
              "Genre           object\n",
              "Publisher       object\n",
              "NA_Sales       float64\n",
              "EU_Sales       float64\n",
              "JP_Sales       float64\n",
              "Other_Sales    float64\n",
              "dtype: object"
            ]
          },
          "metadata": {
            "tags": []
          },
          "execution_count": 8
        }
      ]
    },
    {
      "cell_type": "code",
      "metadata": {
        "colab": {
          "base_uri": "https://localhost:8080/",
          "height": 282
        },
        "id": "QPMpj5UrDVg3",
        "outputId": "31463bb2-e8bd-4d2b-a7c6-733c70bf553a"
      },
      "source": [
        "#K단위를 M단위로 변경 - 1000배 차이이므로 0.001 곱해줌\r\n",
        "df['NA_Sales'] = np.where( df['NA_Sales'] >= 10,df['NA_Sales']*0.001,df['NA_Sales'])\r\n",
        "df['EU_Sales'] = np.where( df['EU_Sales'] >= 10,df['EU_Sales']*0.001,df['EU_Sales'])\r\n",
        "df['JP_Sales'] = np.where( df['JP_Sales'] >= 10,df['JP_Sales']*0.001,df['JP_Sales'])\r\n",
        "df['Other_Sales'] = np.where( df['Other_Sales'] >= 10,df['Other_Sales']*0.001,df['Other_Sales'])\r\n",
        "\r\n",
        "df.head()"
      ],
      "execution_count": 9,
      "outputs": [
        {
          "output_type": "execute_result",
          "data": {
            "text/html": [
              "<div>\n",
              "<style scoped>\n",
              "    .dataframe tbody tr th:only-of-type {\n",
              "        vertical-align: middle;\n",
              "    }\n",
              "\n",
              "    .dataframe tbody tr th {\n",
              "        vertical-align: top;\n",
              "    }\n",
              "\n",
              "    .dataframe thead th {\n",
              "        text-align: right;\n",
              "    }\n",
              "</style>\n",
              "<table border=\"1\" class=\"dataframe\">\n",
              "  <thead>\n",
              "    <tr style=\"text-align: right;\">\n",
              "      <th></th>\n",
              "      <th>Name</th>\n",
              "      <th>Platform</th>\n",
              "      <th>Year</th>\n",
              "      <th>Genre</th>\n",
              "      <th>Publisher</th>\n",
              "      <th>NA_Sales</th>\n",
              "      <th>EU_Sales</th>\n",
              "      <th>JP_Sales</th>\n",
              "      <th>Other_Sales</th>\n",
              "    </tr>\n",
              "  </thead>\n",
              "  <tbody>\n",
              "    <tr>\n",
              "      <th>0</th>\n",
              "      <td>Candace Kane's Candy Factory</td>\n",
              "      <td>DS</td>\n",
              "      <td>2008</td>\n",
              "      <td>Action</td>\n",
              "      <td>Destineer</td>\n",
              "      <td>0.04</td>\n",
              "      <td>0.00</td>\n",
              "      <td>0.00</td>\n",
              "      <td>0.00</td>\n",
              "    </tr>\n",
              "    <tr>\n",
              "      <th>1</th>\n",
              "      <td>The Munchables</td>\n",
              "      <td>Wii</td>\n",
              "      <td>2009</td>\n",
              "      <td>Action</td>\n",
              "      <td>Namco Bandai Games</td>\n",
              "      <td>0.17</td>\n",
              "      <td>0.00</td>\n",
              "      <td>0.00</td>\n",
              "      <td>0.01</td>\n",
              "    </tr>\n",
              "    <tr>\n",
              "      <th>2</th>\n",
              "      <td>Otome wa Oanesama Boku ni Koi Shiteru Portable</td>\n",
              "      <td>PSP</td>\n",
              "      <td>2010</td>\n",
              "      <td>Adventure</td>\n",
              "      <td>Alchemist</td>\n",
              "      <td>0.00</td>\n",
              "      <td>0.00</td>\n",
              "      <td>0.02</td>\n",
              "      <td>0.00</td>\n",
              "    </tr>\n",
              "    <tr>\n",
              "      <th>3</th>\n",
              "      <td>Deal or No Deal: Special Edition</td>\n",
              "      <td>DS</td>\n",
              "      <td>2010</td>\n",
              "      <td>Misc</td>\n",
              "      <td>Zoo Games</td>\n",
              "      <td>0.04</td>\n",
              "      <td>0.00</td>\n",
              "      <td>0.00</td>\n",
              "      <td>0.00</td>\n",
              "    </tr>\n",
              "    <tr>\n",
              "      <th>4</th>\n",
              "      <td>Ben 10 Ultimate Alien: Cosmic Destruction</td>\n",
              "      <td>PS3</td>\n",
              "      <td>2010</td>\n",
              "      <td>Platform</td>\n",
              "      <td>D3Publisher</td>\n",
              "      <td>0.12</td>\n",
              "      <td>0.09</td>\n",
              "      <td>0.00</td>\n",
              "      <td>0.04</td>\n",
              "    </tr>\n",
              "  </tbody>\n",
              "</table>\n",
              "</div>"
            ],
            "text/plain": [
              "                                             Name  ... Other_Sales\n",
              "0                    Candace Kane's Candy Factory  ...        0.00\n",
              "1                                  The Munchables  ...        0.01\n",
              "2  Otome wa Oanesama Boku ni Koi Shiteru Portable  ...        0.00\n",
              "3                Deal or No Deal: Special Edition  ...        0.00\n",
              "4       Ben 10 Ultimate Alien: Cosmic Destruction  ...        0.04\n",
              "\n",
              "[5 rows x 9 columns]"
            ]
          },
          "metadata": {
            "tags": []
          },
          "execution_count": 9
        }
      ]
    },
    {
      "cell_type": "code",
      "metadata": {
        "colab": {
          "base_uri": "https://localhost:8080/",
          "height": 53
        },
        "id": "Qf0-emabFgPZ",
        "outputId": "33f52d03-b91a-4431-b38f-8624e4633f95"
      },
      "source": [
        "#Sales 칼럼들에 1000000 곱해줌 - M단위로 변환하고 보기 쉽도록\r\n",
        "\"\"\"\r\n",
        "df['NA_Sales'] = df['NA_Sales']*1000000\r\n",
        "df['EU_Sales'] = df['EU_Sales']*1000000\r\n",
        "df['JP_Sales'] = df['JP_Sales']*1000000\r\n",
        "df['Other_Sales'] = df['Other_Sales']*1000000\r\n",
        "\r\n",
        "df.head()\r\n",
        "\"\"\""
      ],
      "execution_count": 10,
      "outputs": [
        {
          "output_type": "execute_result",
          "data": {
            "application/vnd.google.colaboratory.intrinsic+json": {
              "type": "string"
            },
            "text/plain": [
              "\"\\ndf['NA_Sales'] = df['NA_Sales']*1000000\\ndf['EU_Sales'] = df['EU_Sales']*1000000\\ndf['JP_Sales'] = df['JP_Sales']*1000000\\ndf['Other_Sales'] = df['Other_Sales']*1000000\\n\\ndf.head()\\n\""
            ]
          },
          "metadata": {
            "tags": []
          },
          "execution_count": 10
        }
      ]
    },
    {
      "cell_type": "code",
      "metadata": {
        "colab": {
          "base_uri": "https://localhost:8080/",
          "height": 53
        },
        "id": "SMUI_sloG4cf",
        "outputId": "ae8c2a83-226a-40bd-88ee-fe9ab4c2f226"
      },
      "source": [
        "#Sales 데이터를 int로 변환\r\n",
        "\"\"\"\r\n",
        "df['NA_Sales'] = df['NA_Sales'].astype(int)\r\n",
        "df['EU_Sales'] = df['EU_Sales'].astype(int)\r\n",
        "df['JP_Sales'] = df['JP_Sales'].astype(int)\r\n",
        "df['Other_Sales'] = df['Other_Sales'].astype(int)\r\n",
        "\r\n",
        "df.head()\r\n",
        "\"\"\""
      ],
      "execution_count": 11,
      "outputs": [
        {
          "output_type": "execute_result",
          "data": {
            "application/vnd.google.colaboratory.intrinsic+json": {
              "type": "string"
            },
            "text/plain": [
              "\"\\ndf['NA_Sales'] = df['NA_Sales'].astype(int)\\ndf['EU_Sales'] = df['EU_Sales'].astype(int)\\ndf['JP_Sales'] = df['JP_Sales'].astype(int)\\ndf['Other_Sales'] = df['Other_Sales'].astype(int)\\n\\ndf.head()\\n\""
            ]
          },
          "metadata": {
            "tags": []
          },
          "execution_count": 11
        }
      ]
    },
    {
      "cell_type": "code",
      "metadata": {
        "colab": {
          "base_uri": "https://localhost:8080/"
        },
        "id": "zuxJ1pEkHKnW",
        "outputId": "9b294941-43f7-430c-c6c9-d9b9cc9a4bbf"
      },
      "source": [
        "df.dtypes"
      ],
      "execution_count": 12,
      "outputs": [
        {
          "output_type": "execute_result",
          "data": {
            "text/plain": [
              "Name            object\n",
              "Platform        object\n",
              "Year             int64\n",
              "Genre           object\n",
              "Publisher       object\n",
              "NA_Sales       float64\n",
              "EU_Sales       float64\n",
              "JP_Sales       float64\n",
              "Other_Sales    float64\n",
              "dtype: object"
            ]
          },
          "metadata": {
            "tags": []
          },
          "execution_count": 12
        }
      ]
    },
    {
      "cell_type": "markdown",
      "metadata": {
        "id": "gcaFXVsHIHPm"
      },
      "source": [
        "**-전처리 완료**"
      ]
    },
    {
      "cell_type": "markdown",
      "metadata": {
        "id": "sQ14eja2KEAG"
      },
      "source": [
        "플랫폼/장르/게임사/년도 로 그룹지어서 각 나라별로 세일즈 비교"
      ]
    },
    {
      "cell_type": "code",
      "metadata": {
        "colab": {
          "base_uri": "https://localhost:8080/",
          "height": 364
        },
        "id": "E7C9mGk8KDfu",
        "outputId": "1f617e7a-e63d-4b95-c5f9-51025ab8fd56"
      },
      "source": [
        "#지역에 따른 게임 장르 선호도 - 매출액 비교\r\n",
        "gr = df[['Genre','NA_Sales','EU_Sales','JP_Sales','Other_Sales']]\r\n",
        "gr = gr.groupby('Genre').sum() #단위 M\r\n",
        "#label = ['Action','Adventure','Fighting','Misc','Platform','Puzzle','Racing','Role-Playing','Shooter','Simulation','Sports','Strategy']\r\n",
        "\r\n",
        "gr.plot(kind='bar')\r\n",
        "plt.title('Preference of game genres by region')\r\n",
        "plt.xlabel('Sales (M)')\r\n",
        "plt.ylabel('Genre')\r\n"
      ],
      "execution_count": 29,
      "outputs": [
        {
          "output_type": "execute_result",
          "data": {
            "text/plain": [
              "Text(0, 0.5, 'Genre')"
            ]
          },
          "metadata": {
            "tags": []
          },
          "execution_count": 29
        },
        {
          "output_type": "display_data",
          "data": {
            "image/png": "[encoded data removed]",
            "text/plain": [
              "<Figure size 432x288 with 1 Axes>"
            ]
          },
          "metadata": {
            "tags": [],
            "needs_background": "light"
          }
        }
      ]
    },
    {
      "cell_type": "code",
      "metadata": {
        "colab": {
          "base_uri": "https://localhost:8080/",
          "height": 313
        },
        "id": "akXUoHCsTk_a",
        "outputId": "95220cd2-5b1b-4f0c-f248-ae861e66a597"
      },
      "source": [
        "#지역에 따른 게임 장르 선호도 - 매출액 비교 2\r\n",
        "#지역별 매출액 총합에 따른 게임 장르 선호도\r\n",
        "gr['Total_Sales'] = gr.sum(axis=1)\r\n",
        "gr1 = gr.drop(['NA_Sales','EU_Sales','JP_Sales','Other_Sales'],axis=1)\r\n",
        "gr1 = gr1.sort_values(by='Total_Sales',ascending=False)\r\n",
        "gr1.plot(kind='barh',color='#ff577f')\r\n",
        "plt.title('Preference of game genres')\r\n",
        "plt.xlabel('Sales (M)')\r\n",
        "plt.ylabel('Genre')"
      ],
      "execution_count": 30,
      "outputs": [
        {
          "output_type": "execute_result",
          "data": {
            "text/plain": [
              "Text(0, 0.5, 'Genre')"
            ]
          },
          "metadata": {
            "tags": []
          },
          "execution_count": 30
        },
        {
          "output_type": "display_data",
          "data": {
            "image/png": "[encoded data removed]",
            "text/plain": [
              "<Figure size 432x288 with 1 Axes>"
            ]
          },
          "metadata": {
            "tags": [],
            "needs_background": "light"
          }
        }
      ]
    },
    {
      "cell_type": "markdown",
      "metadata": {
        "id": "NNcpuyvyUpzy"
      },
      "source": [
        "Top 5 revenue game : Action, Sports, Shooter, Role-Playing,Misc"
      ]
    },
    {
      "cell_type": "code",
      "metadata": {
        "colab": {
          "base_uri": "https://localhost:8080/",
          "height": 1000
        },
        "id": "CFUgDt1xze9N",
        "outputId": "73d8e44b-d080-4e64-bc65-4f43261f637f"
      },
      "source": [
        "##지역에 따른 게임 장르 선호도 - 매출액 비교 3\r\n",
        "sales = df[['NA_Sales','EU_Sales','JP_Sales','Other_Sales']]\r\n",
        "\r\n",
        "for i in sales:\r\n",
        "    plt.figure()\r\n",
        "    ax = sns.barplot(x=i, y=\"Genre\", data=df,dodge=False)\r\n",
        "    plt.title(f\"{i} per Genre\")\r\n",
        "    plt.xlabel('Sales (M)')\r\n",
        "    plt.ylabel('Genre')"
      ],
      "execution_count": 31,
      "outputs": [
        {
          "output_type": "display_data",
          "data": {
            "image/png": "[encoded data removed]",
            "text/plain": [
              "<Figure size 432x288 with 1 Axes>"
            ]
          },
          "metadata": {
            "tags": [],
            "needs_background": "light"
          }
        },
        {
          "output_type": "display_data",
          "data": {
            "image/png": "[encoded data removed]",
            "text/plain": [
              "<Figure size 432x288 with 1 Axes>"
            ]
          },
          "metadata": {
            "tags": [],
            "needs_background": "light"
          }
        },
        {
          "output_type": "display_data",
          "data": {
            "image/png": "[encoded data removed]",
            "text/plain": [
              "<Figure size 432x288 with 1 Axes>"
            ]
          },
          "metadata": {
            "tags": [],
            "needs_background": "light"
          }
        },
        {
          "output_type": "display_data",
          "data": {
            "image/png": "[encoded data removed]",
            "text/plain": [
              "<Figure size 432x288 with 1 Axes>"
            ]
          },
          "metadata": {
            "tags": [],
            "needs_background": "light"
          }
        }
      ]
    },
    {
      "cell_type": "code",
      "metadata": {
        "colab": {
          "base_uri": "https://localhost:8080/",
          "height": 364
        },
        "id": "g3g-Aut8oq5H",
        "outputId": "70b1ffd0-25c1-4e10-d3fc-8d494e9c8009"
      },
      "source": [
        "#년도별 게임 장르 선호도\r\n",
        "year_genre = df[['Year','Genre','NA_Sales','EU_Sales','JP_Sales','Other_Sales']]\r\n",
        "year_genre1 = df[['NA_Sales','EU_Sales','JP_Sales','Other_Sales']]\r\n",
        "year_genre['Total Sales'] = year_genre1.sum(axis=1)\r\n",
        "year_genre = year_genre[['Genre','Year','Total Sales']]\r\n",
        "\r\n",
        "yg = pd.pivot_table(year_genre, index = 'Year', columns = 'Genre', values = 'Total Sales')\r\n",
        "yg = yg.fillna(0)\r\n",
        "cmap = sns.light_palette(\"purple\")\r\n",
        "ax = sns.heatmap(yg,cmap=cmap)\r\n",
        "ax.set_xlabel('Genre')\r\n",
        "ax.set_ylabel('Year')\r\n",
        "ax.set_title('Preference of game genres by year')"
      ],
      "execution_count": 56,
      "outputs": [
        {
          "output_type": "execute_result",
          "data": {
            "text/plain": [
              "Text(0.5, 1.0, 'Preference of game genres by year')"
            ]
          },
          "metadata": {
            "tags": []
          },
          "execution_count": 56
        },
        {
          "output_type": "display_data",
          "data": {
            "image/png": "[encoded data removed]",
            "text/plain": [
              "<Figure size 432x288 with 2 Axes>"
            ]
          },
          "metadata": {
            "tags": [],
            "needs_background": "light"
          }
        }
      ]
    },
    {
      "cell_type": "code",
      "metadata": {
        "colab": {
          "base_uri": "https://localhost:8080/",
          "height": 376
        },
        "id": "h9iL-KPqJ_sH",
        "outputId": "c0412e0c-f71c-46ec-f2c9-94f8af991292"
      },
      "source": [
        "#지역별 게임 플랫폼 선호도\r\n",
        "\r\n",
        "pf = df[['Platform','NA_Sales','EU_Sales','JP_Sales','Other_Sales']]\r\n",
        "pf = pf.groupby('Platform').sum()\r\n",
        "pf.head(10)"
      ],
      "execution_count": 17,
      "outputs": [
        {
          "output_type": "execute_result",
          "data": {
            "text/html": [
              "<div>\n",
              "<style scoped>\n",
              "    .dataframe tbody tr th:only-of-type {\n",
              "        vertical-align: middle;\n",
              "    }\n",
              "\n",
              "    .dataframe tbody tr th {\n",
              "        vertical-align: top;\n",
              "    }\n",
              "\n",
              "    .dataframe thead th {\n",
              "        text-align: right;\n",
              "    }\n",
              "</style>\n",
              "<table border=\"1\" class=\"dataframe\">\n",
              "  <thead>\n",
              "    <tr style=\"text-align: right;\">\n",
              "      <th></th>\n",
              "      <th>NA_Sales</th>\n",
              "      <th>EU_Sales</th>\n",
              "      <th>JP_Sales</th>\n",
              "      <th>Other_Sales</th>\n",
              "    </tr>\n",
              "    <tr>\n",
              "      <th>Platform</th>\n",
              "      <th></th>\n",
              "      <th></th>\n",
              "      <th></th>\n",
              "      <th></th>\n",
              "    </tr>\n",
              "  </thead>\n",
              "  <tbody>\n",
              "    <tr>\n",
              "      <th>2600</th>\n",
              "      <td>80.32000</td>\n",
              "      <td>4.830</td>\n",
              "      <td>0.00000</td>\n",
              "      <td>0.83</td>\n",
              "    </tr>\n",
              "    <tr>\n",
              "      <th>3DO</th>\n",
              "      <td>0.00000</td>\n",
              "      <td>0.000</td>\n",
              "      <td>0.10000</td>\n",
              "      <td>0.00</td>\n",
              "    </tr>\n",
              "    <tr>\n",
              "      <th>3DS</th>\n",
              "      <td>72.76000</td>\n",
              "      <td>54.180</td>\n",
              "      <td>92.53000</td>\n",
              "      <td>11.75</td>\n",
              "    </tr>\n",
              "    <tr>\n",
              "      <th>DC</th>\n",
              "      <td>5.43000</td>\n",
              "      <td>1.690</td>\n",
              "      <td>8.56000</td>\n",
              "      <td>0.27</td>\n",
              "    </tr>\n",
              "    <tr>\n",
              "      <th>DS</th>\n",
              "      <td>370.00138</td>\n",
              "      <td>179.601</td>\n",
              "      <td>168.73000</td>\n",
              "      <td>59.33</td>\n",
              "    </tr>\n",
              "    <tr>\n",
              "      <th>GB</th>\n",
              "      <td>68.38530</td>\n",
              "      <td>47.510</td>\n",
              "      <td>74.71022</td>\n",
              "      <td>8.16</td>\n",
              "    </tr>\n",
              "    <tr>\n",
              "      <th>GBA</th>\n",
              "      <td>178.14000</td>\n",
              "      <td>72.380</td>\n",
              "      <td>46.51000</td>\n",
              "      <td>7.51</td>\n",
              "    </tr>\n",
              "    <tr>\n",
              "      <th>GC</th>\n",
              "      <td>131.45000</td>\n",
              "      <td>38.200</td>\n",
              "      <td>20.83000</td>\n",
              "      <td>5.10</td>\n",
              "    </tr>\n",
              "    <tr>\n",
              "      <th>GEN</th>\n",
              "      <td>19.27000</td>\n",
              "      <td>5.520</td>\n",
              "      <td>2.67000</td>\n",
              "      <td>0.89</td>\n",
              "    </tr>\n",
              "    <tr>\n",
              "      <th>GG</th>\n",
              "      <td>0.00000</td>\n",
              "      <td>0.000</td>\n",
              "      <td>0.04000</td>\n",
              "      <td>0.00</td>\n",
              "    </tr>\n",
              "  </tbody>\n",
              "</table>\n",
              "</div>"
            ],
            "text/plain": [
              "           NA_Sales  EU_Sales   JP_Sales  Other_Sales\n",
              "Platform                                             \n",
              "2600       80.32000     4.830    0.00000         0.83\n",
              "3DO         0.00000     0.000    0.10000         0.00\n",
              "3DS        72.76000    54.180   92.53000        11.75\n",
              "DC          5.43000     1.690    8.56000         0.27\n",
              "DS        370.00138   179.601  168.73000        59.33\n",
              "GB         68.38530    47.510   74.71022         8.16\n",
              "GBA       178.14000    72.380   46.51000         7.51\n",
              "GC        131.45000    38.200   20.83000         5.10\n",
              "GEN        19.27000     5.520    2.67000         0.89\n",
              "GG          0.00000     0.000    0.04000         0.00"
            ]
          },
          "metadata": {
            "tags": []
          },
          "execution_count": 17
        }
      ]
    },
    {
      "cell_type": "code",
      "metadata": {
        "colab": {
          "base_uri": "https://localhost:8080/",
          "height": 329
        },
        "id": "3s4VBUrG0Ucu",
        "outputId": "e4091222-2dc8-4add-f467-6419b1433391"
      },
      "source": [
        "#유럽의 게임 플랫폼 선호도 - 매출액 top 10\r\n",
        "pf1 = pf.sort_values(by='EU_Sales',ascending=False)\r\n",
        "pf1 = pf1[0:10]\r\n",
        "\r\n",
        "pf1['EU_Sales'].plot(kind='bar',color='#949cdf')\r\n",
        "plt.title('Preference of game platform from EU')\r\n",
        "plt.xlabel('Platform')\r\n",
        "plt.ylabel('Sales (M)')"
      ],
      "execution_count": 18,
      "outputs": [
        {
          "output_type": "execute_result",
          "data": {
            "text/plain": [
              "Text(0, 0.5, 'Sales (M)')"
            ]
          },
          "metadata": {
            "tags": []
          },
          "execution_count": 18
        },
        {
          "output_type": "display_data",
          "data": {
            "image/png": "[encoded data removed]",
            "text/plain": [
              "<Figure size 432x288 with 1 Axes>"
            ]
          },
          "metadata": {
            "tags": [],
            "needs_background": "light"
          }
        }
      ]
    },
    {
      "cell_type": "markdown",
      "metadata": {
        "id": "abuZLZ6c1j9G"
      },
      "source": [
        "European TOP 5 : PS3, PS2, X360, PS, Wii\r\n",
        "\r\n",
        "PS3, PS2가 독보적"
      ]
    },
    {
      "cell_type": "code",
      "metadata": {
        "colab": {
          "base_uri": "https://localhost:8080/",
          "height": 329
        },
        "id": "yVRl5gATwKWe",
        "outputId": "dcfb5d56-2f9b-46ec-a873-7f1006464f0d"
      },
      "source": [
        "#북미의 게임 플랫폼 선호도 - 매출액 top 10\r\n",
        "pf2 = pf.sort_values(by='NA_Sales',ascending=False)\r\n",
        "pf2 = pf2[0:10]\r\n",
        "pf2['NA_Sales'].plot(kind='bar',color='#16c79a')\r\n",
        "plt.title('Preference of game platform from NA')\r\n",
        "plt.xlabel('Platform')\r\n",
        "plt.ylabel('Sales (M)')"
      ],
      "execution_count": 19,
      "outputs": [
        {
          "output_type": "execute_result",
          "data": {
            "text/plain": [
              "Text(0, 0.5, 'Sales (M)')"
            ]
          },
          "metadata": {
            "tags": []
          },
          "execution_count": 19
        },
        {
          "output_type": "display_data",
          "data": {
            "image/png": "[encoded data removed]",
            "text/plain": [
              "<Figure size 432x288 with 1 Axes>"
            ]
          },
          "metadata": {
            "tags": [],
            "needs_background": "light"
          }
        }
      ]
    },
    {
      "cell_type": "markdown",
      "metadata": {
        "id": "FDDPZXhC1qKA"
      },
      "source": [
        "North American TOP 5 : X360, PS2, Wii, PS3, DS\r\n",
        "\r\n",
        "X360과 PS2가 독보적"
      ]
    },
    {
      "cell_type": "code",
      "metadata": {
        "colab": {
          "base_uri": "https://localhost:8080/",
          "height": 330
        },
        "id": "u1QeJi6AwQX9",
        "outputId": "853ab48a-12cf-4e29-8e6d-33251f827982"
      },
      "source": [
        "#일본의 게임 플랫폼 선호도 - 매출액 top 10\r\n",
        "pf3 = pf.sort_values(by='JP_Sales',ascending=False)\r\n",
        "pf3 = pf3[0:10]\r\n",
        "pf3['JP_Sales'].plot(kind='bar',color='#eb596e')\r\n",
        "plt.title('Preference of game platform from JP')\r\n",
        "plt.xlabel('Platform')\r\n",
        "plt.ylabel('Sales (M)')"
      ],
      "execution_count": 20,
      "outputs": [
        {
          "output_type": "execute_result",
          "data": {
            "text/plain": [
              "Text(0, 0.5, 'Sales (M)')"
            ]
          },
          "metadata": {
            "tags": []
          },
          "execution_count": 20
        },
        {
          "output_type": "display_data",
          "data": {
            "image/png": "[encoded data removed]",
            "text/plain": [
              "<Figure size 432x288 with 1 Axes>"
            ]
          },
          "metadata": {
            "tags": [],
            "needs_background": "light"
          }
        }
      ]
    },
    {
      "cell_type": "markdown",
      "metadata": {
        "id": "16i3c-zt1wnS"
      },
      "source": [
        "Japanese TOP 5 : DS, PS, PS2, SNES, NES\r\n",
        "\r\n",
        "DS가 독보적"
      ]
    },
    {
      "cell_type": "code",
      "metadata": {
        "colab": {
          "base_uri": "https://localhost:8080/",
          "height": 330
        },
        "id": "KH-FnwUCKw3w",
        "outputId": "3f99bed3-0900-490e-ca4c-bcd49c7c368d"
      },
      "source": [
        "#기타 지역의 게임 플랫폼 선호도 - 매출액 top 10\r\n",
        "pf4 = pf.sort_values(by='Other_Sales',ascending=False)\r\n",
        "pf4 = pf4[0:10]\r\n",
        "pf4['Other_Sales'].plot(kind='bar',color='#ffe227')\r\n",
        "plt.title('Preference of game platform from other countries')\r\n",
        "plt.xlabel('Platform')\r\n",
        "plt.ylabel('Sales (M)')"
      ],
      "execution_count": 21,
      "outputs": [
        {
          "output_type": "execute_result",
          "data": {
            "text/plain": [
              "Text(0, 0.5, 'Sales (M)')"
            ]
          },
          "metadata": {
            "tags": []
          },
          "execution_count": 21
        },
        {
          "output_type": "display_data",
          "data": {
            "image/png": "[encoded data removed]",
            "text/plain": [
              "<Figure size 432x288 with 1 Axes>"
            ]
          },
          "metadata": {
            "tags": [],
            "needs_background": "light"
          }
        }
      ]
    },
    {
      "cell_type": "markdown",
      "metadata": {
        "id": "BL2eu2_LLKpi"
      },
      "source": [
        "Other region TOP 5 : PS5, PS3, X360, Wii, DS"
      ]
    },
    {
      "cell_type": "code",
      "metadata": {
        "colab": {
          "base_uri": "https://localhost:8080/",
          "height": 295
        },
        "id": "_-CZhzLSskEb",
        "outputId": "8a18d22a-e082-4886-b981-ffb1a87ba06b"
      },
      "source": [
        "#전체 지역 플랫폼별 선호도\r\n",
        "ptgr = pd.crosstab(df.Platform, df.Genre)\r\n",
        "ptgr_total = ptgr.sum(axis=1).sort_values(ascending=False)\r\n",
        "ptgr_top_10 = ptgr_total[0:10]\r\n",
        "plt.figure()\r\n",
        "ptgr_top_10.plot(kind='barh',color='#ffc764')\r\n",
        "plt.xlabel('Sales (M)')\r\n",
        "plt.ylabel('Platform')\r\n",
        "plt.title('World\\'s Preference of Video Game Platform')\r\n",
        "plt.show()"
      ],
      "execution_count": 22,
      "outputs": [
        {
          "output_type": "display_data",
          "data": {
            "image/png": "[encoded data removed]",
            "text/plain": [
              "<Figure size 432x288 with 1 Axes>"
            ]
          },
          "metadata": {
            "tags": [],
            "needs_background": "light"
          }
        }
      ]
    },
    {
      "cell_type": "markdown",
      "metadata": {
        "id": "dDYSLU-twTyM"
      },
      "source": [
        "DS와 PS2의 전체 시장 매출이 매우 높다. 다만 DS는 일본에서의 매출이 높은 편이고, PS는 전체 시장에서 높은 비율을 차지하고 있다. 특히 PS2와 PS3의 매출을 더하면 DS의 매출의 1.5배 이상이 될 만큼 독보적이다. "
      ]
    },
    {
      "cell_type": "code",
      "metadata": {
        "colab": {
          "base_uri": "https://localhost:8080/",
          "height": 295
        },
        "id": "Kshpi4QLw26O",
        "outputId": "59967113-1f4d-4f96-abeb-a0731dbd46fa"
      },
      "source": [
        "#회사 점유율 top 10\r\n",
        "df1 = df.drop('Year',axis=1)\r\n",
        "cp = df1.groupby('Publisher').sum()\r\n",
        "cp['Sum'] = cp.sum(axis=1)\r\n",
        "cp = cp.sort_values(by='Sum',ascending=False)\r\n",
        "cp_sum = cp['Sum']\r\n",
        "cp_top_10 = cp_sum[0:10]\r\n",
        "cp_top_10.plot(kind='barh',color='#e9b0df')\r\n",
        "plt.xlabel('Sales (M)')\r\n",
        "plt.ylabel('Publisher')\r\n",
        "plt.title('World\\'s Market Share by Video Game Publisher')\r\n",
        "plt.show()"
      ],
      "execution_count": 23,
      "outputs": [
        {
          "output_type": "display_data",
          "data": {
            "image/png": "[encoded data removed]",
            "text/plain": [
              "<Figure size 432x288 with 1 Axes>"
            ]
          },
          "metadata": {
            "tags": [],
            "needs_background": "light"
          }
        }
      ]
    },
    {
      "cell_type": "markdown",
      "metadata": {
        "id": "80Sy53IgcBhh"
      },
      "source": [
        "Top 3 Publisher : Nintendo, Electronic Arts, Activision, Sony Computer Entertainment, Ubisoft\r\n",
        "\r\n",
        "Nintendo와 Electronic Arts가 시장을 거의 독점하고 있다."
      ]
    },
    {
      "cell_type": "code",
      "metadata": {
        "colab": {
          "base_uri": "https://localhost:8080/",
          "height": 313
        },
        "id": "j8NDOueoxC_j",
        "outputId": "d4ec2b72-f3ca-4a6b-ea6c-e4f373b5e710"
      },
      "source": [
        "#년도별 시장 규모 변화\r\n",
        "ys = df.groupby('Year').sum()\r\n",
        "ys.plot()\r\n",
        "plt.title('Sales by Year')\r\n",
        "plt.xlabel('Year')\r\n",
        "plt.ylabel('Sales (M)')"
      ],
      "execution_count": 24,
      "outputs": [
        {
          "output_type": "execute_result",
          "data": {
            "text/plain": [
              "Text(0, 0.5, 'Sales (M)')"
            ]
          },
          "metadata": {
            "tags": []
          },
          "execution_count": 24
        },
        {
          "output_type": "display_data",
          "data": {
            "image/png": "[encoded data removed]",
            "text/plain": [
              "<Figure size 432x288 with 1 Axes>"
            ]
          },
          "metadata": {
            "tags": [],
            "needs_background": "light"
          }
        }
      ]
    },
    {
      "cell_type": "markdown",
      "metadata": {
        "id": "FJphH_JXd1Es"
      },
      "source": [
        "1980년부터 2005년까지 매출이 상승세를 유지하다가 2005년~2010년 사이에 매출이 가장 높았지만 그 이후로는 계속 하락세였으며 특히 2015년부터는 매출이 거의 0에 가깝다."
      ]
    },
    {
      "cell_type": "code",
      "metadata": {
        "colab": {
          "base_uri": "https://localhost:8080/",
          "height": 313
        },
        "id": "gXNanDiwMgQa",
        "outputId": "9d38a17b-937b-4ffd-9857-30a0c7575496"
      },
      "source": [
        "#매출 상위 top 10 게임\r\n",
        "pr = df[['Name','NA_Sales','EU_Sales','JP_Sales','Other_Sales']]\r\n",
        "pr['Sum'] = pr.sum(axis=1)\r\n",
        "pr = pr.drop(['NA_Sales','EU_Sales','JP_Sales','Other_Sales'],axis=1)\r\n",
        "pr = pr.sort_values(by='Sum',ascending=False)\r\n",
        "pr_top_10 = pr[0:10]\r\n",
        "pr_top_10.plot('Name','Sum',kind='barh',color='#51c2d5')\r\n",
        "plt.title('TOP 10 Sales Game')\r\n",
        "plt.ylabel('Game Name')\r\n",
        "plt.xlabel('Sales (M)')"
      ],
      "execution_count": 25,
      "outputs": [
        {
          "output_type": "execute_result",
          "data": {
            "text/plain": [
              "Text(0.5, 0, 'Sales (M)')"
            ]
          },
          "metadata": {
            "tags": []
          },
          "execution_count": 25
        },
        {
          "output_type": "display_data",
          "data": {
            "image/png": "[encoded data removed]",
            "text/plain": [
              "<Figure size 432x288 with 1 Axes>"
            ]
          },
          "metadata": {
            "tags": [],
            "needs_background": "light"
          }
        }
      ]
    },
    {
      "cell_type": "code",
      "metadata": {
        "colab": {
          "base_uri": "https://localhost:8080/",
          "height": 313
        },
        "id": "ivW8jBqiVhW0",
        "outputId": "562d165e-f04d-44f9-a780-ab034faba829"
      },
      "source": [
        "#최근 10년간 매출 상위 10이었던 게임\r\n",
        "ys_10 = df[['Year','Name','NA_Sales','EU_Sales','JP_Sales','Other_Sales']]\r\n",
        "ys_10['Total_Sales'] = ys_10.sum(axis=1)\r\n",
        "ys_10 = ys_10.drop(['NA_Sales','EU_Sales','JP_Sales','Other_Sales'],axis=1)\r\n",
        "ys_10 = ys_10.loc[ys_10['Year']>=2000,:]\r\n",
        "ys_10.set_index('Name')\r\n",
        "ys_10 = ys_10.groupby('Name').sum()\r\n",
        "ys_10 = ys_10.sort_values(by='Total_Sales',ascending=False)\r\n",
        "ys_10 = ys_10.drop('Year',axis=1)\r\n",
        "ys_10 = ys_10[0:10]\r\n",
        "ys_10.plot(kind='barh',color='#af0069')\r\n",
        "plt.title('TOP 10 Sales Game within 10 years')\r\n",
        "plt.ylabel('Game Name')\r\n",
        "plt.xlabel('Sales (M)')\r\n"
      ],
      "execution_count": 26,
      "outputs": [
        {
          "output_type": "execute_result",
          "data": {
            "text/plain": [
              "Text(0.5, 0, 'Sales (M)')"
            ]
          },
          "metadata": {
            "tags": []
          },
          "execution_count": 26
        },
        {
          "output_type": "display_data",
          "data": {
            "image/png": "[encoded data removed]",
            "text/plain": [
              "<Figure size 432x288 with 1 Axes>"
            ]
          },
          "metadata": {
            "tags": [],
            "needs_background": "light"
          }
        }
      ]
    },
    {
      "cell_type": "code",
      "metadata": {
        "colab": {
          "base_uri": "https://localhost:8080/",
          "height": 313
        },
        "id": "oflnor3gm7H2",
        "outputId": "1708e711-7cad-42a4-af14-248d6f3f824f"
      },
      "source": [
        "#최근 10년간 매출 상위 10이었던 플랫폼 \r\n",
        "ys10 = df[['Year','Platform','NA_Sales','EU_Sales','JP_Sales','Other_Sales']]\r\n",
        "ys10['Total_Sales'] = ys10.sum(axis=1)\r\n",
        "ys10 = ys10.drop(['NA_Sales','EU_Sales','JP_Sales','Other_Sales'],axis=1)\r\n",
        "ys10 = ys10.loc[ys10['Year']>=2000,:]\r\n",
        "ys10.set_index('Platform')\r\n",
        "ys10 = ys10.groupby('Platform').sum()\r\n",
        "ys10 = ys10.sort_values(by='Total_Sales',ascending=False)\r\n",
        "ys10 = ys10.drop('Year',axis=1)\r\n",
        "ys10 = ys10[0:10]\r\n",
        "ys10.plot(kind='barh',color='#6930c3')\r\n",
        "plt.title('TOP 10 Sales Game Platform within 10 years')\r\n",
        "plt.ylabel('Platform Name')\r\n",
        "plt.xlabel('Sales (1000M)')"
      ],
      "execution_count": 27,
      "outputs": [
        {
          "output_type": "execute_result",
          "data": {
            "text/plain": [
              "Text(0.5, 0, 'Sales (1000M)')"
            ]
          },
          "metadata": {
            "tags": []
          },
          "execution_count": 27
        },
        {
          "output_type": "display_data",
          "data": {
            "image/png": "[encoded data removed]",
            "text/plain": [
              "<Figure size 432x288 with 1 Axes>"
            ]
          },
          "metadata": {
            "tags": [],
            "needs_background": "light"
          }
        }
      ]
    },
    {
      "cell_type": "code",
      "metadata": {
        "colab": {
          "base_uri": "https://localhost:8080/",
          "height": 313
        },
        "id": "iqgT42oNnWol",
        "outputId": "d010dc86-e140-4910-ba8c-0a3193f9baeb"
      },
      "source": [
        "#최근 10년간 매출 상위 10이었던 장르\r\n",
        "ys_gr = df[['Year','Genre','NA_Sales','EU_Sales','JP_Sales','Other_Sales']]\r\n",
        "ys_gr['Total_Sales'] = ys_gr.sum(axis=1)\r\n",
        "ys_gr = ys_gr.drop(['NA_Sales','EU_Sales','JP_Sales','Other_Sales'],axis=1)\r\n",
        "ys_gr = ys_gr.loc[ys_gr['Year']>=2000,:]\r\n",
        "ys_gr.set_index('Genre')\r\n",
        "ys_gr = ys_gr.groupby('Genre').sum()\r\n",
        "ys_gr = ys_gr.sort_values(by='Total_Sales',ascending=False)\r\n",
        "ys_gr = ys_gr.drop('Year',axis=1)\r\n",
        "ys_gr = ys_gr[0:10]\r\n",
        "ys_gr.plot(kind='barh',color='#23689b')\r\n",
        "plt.title('TOP 10 Sales Game Genre within 10 years')\r\n",
        "plt.ylabel('Genre Name')\r\n",
        "plt.xlabel('Sales (M)')"
      ],
      "execution_count": 28,
      "outputs": [
        {
          "output_type": "execute_result",
          "data": {
            "text/plain": [
              "Text(0.5, 0, 'Sales (M)')"
            ]
          },
          "metadata": {
            "tags": []
          },
          "execution_count": 28
        },
        {
          "output_type": "display_data",
          "data": {
            "image/png": "[encoded data removed]",
            "text/plain": [
              "<Figure size 432x288 with 1 Axes>"
            ]
          },
          "metadata": {
            "tags": [],
            "needs_background": "light"
          }
        }
      ]
    }
  ]
}